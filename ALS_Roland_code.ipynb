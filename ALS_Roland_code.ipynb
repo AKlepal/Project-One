{
 "cells": [
  {
   "cell_type": "code",
   "execution_count": 5,
   "id": "3c21840f-cdce-4edd-b7f1-351e1369a76d",
   "metadata": {},
   "outputs": [],
   "source": [
    "import matplotlib.pyplot as plt\n",
    "import pandas as pd\n",
    "import scipy.stats as st"
   ]
  },
  {
   "cell_type": "code",
   "execution_count": 6,
   "id": "77fa14ef-4ee3-4fde-b58d-7be4cdd379a5",
   "metadata": {},
   "outputs": [],
   "source": [
    "# Create a path to the CSV files \n",
    "als_csv_path = 'Resources/GOT_ASL.csv'\n",
    "als_df = pd.read_csv(als_csv_path)\n",
    "GOT_deathdata_path = \"Resources/GOT_data_set.csv\""
   ]
  },
  {
   "cell_type": "code",
   "execution_count": 7,
   "id": "a9ec7092-8179-46c5-8633-4b240b876dd7",
   "metadata": {},
   "outputs": [],
   "source": [
    "#read the CSV files into a Pandas DataFrame\n",
    "als_df = pd.read_csv(als_csv_path)\n",
    "GOT_df = pd.read_csv(GOT_deathdata_path)\n",
    "GOT_df.head()"
   ]
  },
  {
   "cell_type": "code",
   "execution_count": 8,
   "id": "3c6a334d-b016-45d8-b8e4-2460460cda33",
   "metadata": {},
   "outputs": [],
   "source": [
    "GOT_df.rename(columns={\"order\": \"Order\", \"season\": \"Season\", \"episode\":\"Episode\", \"character_killed\":\"Character Killed\", \"killer\":\"Killer\", \n",
    "                       \"method\":\"Method\", \"method_cat\":\"Method Category\", \"reason\":\"Reason\", \"location\":\"Location\", \n",
    "                       \"allegiance\":\"Allegiance\", \"importance\":\"Importance\"}, inplace=True)\n",
    "\n",
    "GOT_df"
   ]
  },
  {
   "cell_type": "code",
   "execution_count": 9,
   "id": "704a3a07-59b5-47d0-b9d0-a2583dd5b18d",
   "metadata": {},
   "outputs": [],
   "source": [
    "GOT_df.drop(columns={\"Season\",\"Episode\"})"
   ]
  },
  {
   "cell_type": "code",
   "execution_count": 10,
   "id": "2040b5b1-096d-48b3-a97a-e7ce834082c1",
   "metadata": {},
   "outputs": [
    {
     "data": {
      "text/plain": [
       "array(['House Arryn', 'House Targaryen', \"Night's Watch\",\n",
       "       'House Velaryon', 'wildling', 'House Lannister', 'House Frey',\n",
       "       'House Osgrey', 'House Hightower', 'House Tully', 'House Manderly',\n",
       "       'House Westerling', 'House Martell', 'House Crakehall',\n",
       "       'House Rosby', 'House Cerwyn', 'House Swann', 'House Strong',\n",
       "       'House Lonmouth', 'House Stark', 'House Beesbury', 'House Darry',\n",
       "       'House Hollard', 'House Wythers', 'House Bracken',\n",
       "       'House Tallhart', 'House of Loraq', 'House Hetherspoon',\n",
       "       'House Blackfyre', 'House Cole', 'House Baratheon', 'House Bolton',\n",
       "       'House Stokeworth', 'House Clegane', 'House Morrigen',\n",
       "       'House Greyjoy', 'Mance Rayder', 'House Mormont', 'House Egen',\n",
       "       'House Royce'], dtype=object)"
      ]
     },
     "execution_count": 10,
     "metadata": {},
     "output_type": "execute_result"
    }
   ],
   "source": [
    "#AVERAGE LIFESPAN ANALYSIS\n",
    "#Rename columns\n",
    "als_df.rename(columns={\"name\": \"Name\", \"male\": \"Male\", \"dateOfBirth\":\"Date of Birth\", \"DateoFdeath\":\"Date of Death\", \"house\":\"Allegiance\", \n",
    "                       \"age\":\"Age at Death\", \"isAlive\":\"Alive\"}, inplace=True)\n",
    "# Drop all rows with missing information\n",
    "als_df = als_df.dropna(how='any')\n",
    "# List unique values of Houses to locate any that may be the same\n",
    "als_df[\"Allegiance\"].unique()"
   ]
  },
  {
   "cell_type": "code",
   "execution_count": 11,
   "id": "c66cfdc8-388b-4a06-9e98-b520b92d9273",
   "metadata": {},
   "outputs": [
    {
     "data": {
      "text/plain": [
       "array(['House Arryn', 'House Targaryen', \"Night's Watch\", 'Other Houses',\n",
       "       'Wildlings', 'House Lannister', 'House Tully', 'House Tyrell',\n",
       "       'House Stark', 'House Martell', 'House Baratheon', 'House Greyjoy'],\n",
       "      dtype=object)"
      ]
     },
     "execution_count": 11,
     "metadata": {},
     "output_type": "execute_result"
    }
   ],
   "source": [
    "# Combine similar applicants together based on their Allegiance \n",
    "als_df[\"Allegiance\"] = als_df[\"Allegiance\"].replace({\"House Manderly\": \"House Stark\", \"House Bolton\": \"House Stark\", \"House Mormont\": \"House Stark\", \n",
    "                                                   \"House Clegane\": \"House Lannister\", \"wildling\": \"Wildlings\", \"Mance Rayder\": \"Wildlings\",\n",
    "                                                  \"House Westerling\": \"House Lannister\", \"House Lonmouth\": \"House Baratheon\", \"House of Loraq\": \"House Targaryen\", \n",
    "                                                    \"House Royce\": \"House Arryn\", \"House Egen\": \"House Arryn\",\"House Frey\": \"House Tully\", \"House Crakehall\": \"House Lannister\", \n",
    "                                                   \"House Hightower\": \"House Tyrell\",\"House Cerwyn\": \"House Stark\", \"House Swann\": \"House Baratheon\", \n",
    "                                                   \"House Darry\": \"House Tully\", \"House Tallhart\": \"House Stark\", \"House Morrigen\": \"House Baratheon\", \n",
    "                                                   \"House Bracken\": \"House Tully\",\"House Wythers\": \"House Tyrell\", \"House Hetherspoon\": \"House Lannister\", \n",
    "                                                   \"House Strong\": \"House Tully\",\"House Osgrey\": \"House Tyrell\", \"House Cole\": \"House Baratheon\", \"House Beesbury\" : \"House Tyrell\",\n",
    "                                                  \"House Rosby\": \"Other Houses\", \"House Hollard\": \"Other Houses\", \"House Stokeworth\": \"Other Houses\", \n",
    "                                                   \"House Blackfyre\": \"Other Houses\", \"House Velaryon\": \"Other Houses\"})\n",
    "als_df[\"Allegiance\"].unique()"
   ]
  },
  {
   "cell_type": "code",
   "execution_count": 12,
   "id": "6564b387-20de-4559-8fcc-c41a4e9dd3ce",
   "metadata": {
    "tags": []
   },
   "outputs": [
    {
     "name": "stdout",
     "output_type": "stream",
     "text": [
      "The average lifespan in Game of Thrones is 34.1271186440678 years.\n"
     ]
    },
    {
     "data": {
      "text/html": [
       "<div>\n",
       "<style scoped>\n",
       "    .dataframe tbody tr th:only-of-type {\n",
       "        vertical-align: middle;\n",
       "    }\n",
       "\n",
       "    .dataframe tbody tr th {\n",
       "        vertical-align: top;\n",
       "    }\n",
       "\n",
       "    .dataframe thead th {\n",
       "        text-align: right;\n",
       "    }\n",
       "</style>\n",
       "<table border=\"1\" class=\"dataframe\">\n",
       "  <thead>\n",
       "    <tr style=\"text-align: right;\">\n",
       "      <th></th>\n",
       "      <th>Age at Death</th>\n",
       "    </tr>\n",
       "    <tr>\n",
       "      <th>Allegiance</th>\n",
       "      <th></th>\n",
       "    </tr>\n",
       "  </thead>\n",
       "  <tbody>\n",
       "    <tr>\n",
       "      <th>House Arryn</th>\n",
       "      <td>38.800000</td>\n",
       "    </tr>\n",
       "    <tr>\n",
       "      <th>House Baratheon</th>\n",
       "      <td>26.000000</td>\n",
       "    </tr>\n",
       "    <tr>\n",
       "      <th>House Greyjoy</th>\n",
       "      <td>14.500000</td>\n",
       "    </tr>\n",
       "    <tr>\n",
       "      <th>House Lannister</th>\n",
       "      <td>36.071429</td>\n",
       "    </tr>\n",
       "    <tr>\n",
       "      <th>House Martell</th>\n",
       "      <td>20.666667</td>\n",
       "    </tr>\n",
       "    <tr>\n",
       "      <th>House Stark</th>\n",
       "      <td>35.076923</td>\n",
       "    </tr>\n",
       "    <tr>\n",
       "      <th>House Targaryen</th>\n",
       "      <td>29.821429</td>\n",
       "    </tr>\n",
       "    <tr>\n",
       "      <th>House Tully</th>\n",
       "      <td>39.750000</td>\n",
       "    </tr>\n",
       "    <tr>\n",
       "      <th>House Tyrell</th>\n",
       "      <td>45.166667</td>\n",
       "    </tr>\n",
       "    <tr>\n",
       "      <th>Night's Watch</th>\n",
       "      <td>54.200000</td>\n",
       "    </tr>\n",
       "    <tr>\n",
       "      <th>Other Houses</th>\n",
       "      <td>30.666667</td>\n",
       "    </tr>\n",
       "    <tr>\n",
       "      <th>Wildlings</th>\n",
       "      <td>16.500000</td>\n",
       "    </tr>\n",
       "  </tbody>\n",
       "</table>\n",
       "</div>"
      ],
      "text/plain": [
       "                 Age at Death\n",
       "Allegiance                   \n",
       "House Arryn         38.800000\n",
       "House Baratheon     26.000000\n",
       "House Greyjoy       14.500000\n",
       "House Lannister     36.071429\n",
       "House Martell       20.666667\n",
       "House Stark         35.076923\n",
       "House Targaryen     29.821429\n",
       "House Tully         39.750000\n",
       "House Tyrell        45.166667\n",
       "Night's Watch       54.200000\n",
       "Other Houses        30.666667\n",
       "Wildlings           16.500000"
      ]
     },
     "execution_count": 12,
     "metadata": {},
     "output_type": "execute_result"
    }
   ],
   "source": [
    "#Calculate the average lifespan for all values in dataset\n",
    "avg_lsp = als_df[\"Age at Death\"].mean()\n",
    "# Create a DataFrame with columns \"Name\",\"Date of Birth\", \"Date of Death\", \"Age\", and \"Allegiance\".\n",
    "a_df = als_df[[\"Name\",\"Age at Death\", \"Allegiance\"]]\n",
    "# Create a dataframe of the average lifespan for each Allegiance.\n",
    "avg_age_group = a_df.groupby([\"Allegiance\"])\n",
    "totals_df = avg_age_group.mean()\n",
    "#Display Results\n",
    "print(\"The average lifespan in Game of Thrones is \" + str(avg_lsp) + \" years.\")\n",
    "totals_df"
   ]
  },
  {
   "cell_type": "code",
   "execution_count": 13,
   "id": "6ba44772-cb02-4cc7-952a-a88ad9950e48",
   "metadata": {},
   "outputs": [
    {
     "data": {
      "image/png": "[encoded data removed]",
      "text/plain": [
       "<Figure size 792x792 with 1 Axes>"
      ]
     },
     "metadata": {
      "needs_background": "light"
     },
     "output_type": "display_data"
    },
    {
     "data": {
      "text/plain": [
       "<Figure size 432x288 with 0 Axes>"
      ]
     },
     "metadata": {},
     "output_type": "display_data"
    }
   ],
   "source": [
    "# Create a bar chart based off of the group series from before\n",
    "als_chart = totals_df.plot(kind='bar', color=\"darkred\", rot=50, figsize=(11,11))\n",
    "\n",
    "# Set the xlabel and ylabel\n",
    "als_chart.set_ylabel(\"Average Lifespan (in years)\")\n",
    "als_chart.set_xlabel(\"Allegiances\")\n",
    "als_chart.set_title(\"Average Lifespan by Allegiance\")\n",
    "\n",
    "#Set threshold line at the average lifespan \n",
    "plt.axhline(avg_lsp, color='black', ls='dotted')\n",
    "\n",
    "plt.show()\n",
    "plt.tight_layout()"
   ]
  }
 ],
 "metadata": {
  "kernelspec": {
   "display_name": "Python 3 (ipykernel)",
   "language": "python",
   "name": "python3"
  },
  "language_info": {
   "codemirror_mode": {
    "name": "ipython",
    "version": 3
   },
   "file_extension": ".py",
   "mimetype": "text/x-python",
   "name": "python",
   "nbconvert_exporter": "python",
   "pygments_lexer": "ipython3",
   "version": "3.9.12"
  }
 },
 "nbformat": 4,
 "nbformat_minor": 5
}
