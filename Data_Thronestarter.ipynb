{
 "cells": [
  {
   "cell_type": "markdown",
   "id": "55761d8e",
   "metadata": {},
   "source": [
    "# Data Throne\n"
   ]
  },
  {
   "cell_type": "markdown",
   "id": "999c3c73",
   "metadata": {},
   "source": [
    "# "
   ]
  },
  {
   "cell_type": "markdown",
   "id": "fd8616ab",
   "metadata": {},
   "source": [
    "### Introduction\n",
    "\n",
    "* For this project we have decided to take a small tour into the world of Game of Thrones. We have shifted through some found data to explore the causes of death among the characters. "
   ]
  },
  {
   "cell_type": "code",
   "execution_count": null,
   "id": "45a59f3d-9bdd-4dd3-8b56-9573f39f6b16",
   "metadata": {},
   "outputs": [],
   "source": [
    "import matplotlib.pyplot as plt\n",
    "import pandas as pd\n",
    "import scipy.stats as st"
   ]
  },
  {
   "cell_type": "code",
   "execution_count": null,
   "id": "53e66a15-18a9-488b-9f2b-2b55e30440bd",
   "metadata": {},
   "outputs": [],
   "source": [
    "GOT_deathdata_path = \"Resources/GOT_data_set.csv\""
   ]
  },
  {
   "cell_type": "code",
   "execution_count": null,
   "id": "0acbf019-241d-452e-8633-f2880b21fa4c",
   "metadata": {},
   "outputs": [],
   "source": [
    "GOT_data = pd.read_csv(GOT_deathdata_path)\n",
    "GOT_data"
   ]
  },
  {
   "cell_type": "code",
   "execution_count": null,
   "id": "286a40cb-bef4-487b-8a88-ea876ca3cfba",
   "metadata": {},
   "outputs": [],
   "source": []
  }
 ],
 "metadata": {
  "kernelspec": {
   "display_name": "Python 3.7.0 32-bit",
   "language": "python",
   "name": "python3"
  },
  "language_info": {
   "codemirror_mode": {
    "name": "ipython",
    "version": 3
   },
   "file_extension": ".py",
   "mimetype": "text/x-python",
   "name": "python",
   "nbconvert_exporter": "python",
   "pygments_lexer": "ipython3",
   "version": "3.7.0"
  },
  "vscode": {
   "interpreter": {
    "hash": "8e511521329b140af7e6676783c3cc0389c71e3dac8fb02f046592fa68405aef"
   }
  }
 },
 "nbformat": 4,
 "nbformat_minor": 5
}
